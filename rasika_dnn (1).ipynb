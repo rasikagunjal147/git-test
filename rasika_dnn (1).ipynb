{
  "nbformat": 4,
  "nbformat_minor": 0,
  "metadata": {
    "colab": {
      "name": "rasika-dnn.ipynb",
      "provenance": [],
      "collapsed_sections": []
    },
    "kernelspec": {
      "name": "python3",
      "display_name": "Python 3"
    },
    "language_info": {
      "name": "python"
    }
  },
  "cells": [
    {
      "cell_type": "code",
      "execution_count": 3,
      "metadata": {
        "id": "5EDN9mONv6Z2"
      },
      "outputs": [],
      "source": [
        "import pandas as pd\n",
        "import numpy as np\n",
        "import matplotlib.pyplot as plt\n",
        "import seaborn as sns\n",
        "%matplotlib inline\n",
        "import numpy\n",
        "import keras.models\n",
        "import tensorflow\n",
        "from keras.models import Sequential\n",
        "from keras.layers import Dense"
      ]
    },
    {
      "cell_type": "code",
      "source": [
        "df = pd.read_csv('true_car_listings.csv')"
      ],
      "metadata": {
        "id": "y3AhGtCyw2ev"
      },
      "execution_count": 7,
      "outputs": []
    },
    {
      "cell_type": "code",
      "source": [
        "df.head()"
      ],
      "metadata": {
        "colab": {
          "base_uri": "https://localhost:8080/",
          "height": 206
        },
        "id": "74_Hlg1rw5Xb",
        "outputId": "371bfbe6-1b3e-423d-c708-3a3b46e082f5"
      },
      "execution_count": 8,
      "outputs": [
        {
          "output_type": "execute_result",
          "data": {
            "text/plain": [
              "   Price  Year  Mileage              City State                Vin   Make  \\\n",
              "0   8995  2014    35725           El Paso    TX  19VDE2E53EE000083  Acura   \n",
              "1  10888  2013    19606  Long Island City    NY  19VDE1F52DE012636  Acura   \n",
              "2   8995  2013    48851           El Paso    TX  19VDE2E52DE000025  Acura   \n",
              "3  10999  2014    39922           Windsor    CO  19VDE1F71EE003817  Acura   \n",
              "4  14799  2016    22142            Lindon    UT  19UDE2F32GA001284  Acura   \n",
              "\n",
              "          Model  \n",
              "0    ILX6-Speed  \n",
              "1    ILX5-Speed  \n",
              "2    ILX6-Speed  \n",
              "3    ILX5-Speed  \n",
              "4  ILXAutomatic  "
            ],
            "text/html": [
              "\n",
              "  <div id=\"df-6386b7d4-5f4f-4cd1-a2c6-95a20e5d8ceb\">\n",
              "    <div class=\"colab-df-container\">\n",
              "      <div>\n",
              "<style scoped>\n",
              "    .dataframe tbody tr th:only-of-type {\n",
              "        vertical-align: middle;\n",
              "    }\n",
              "\n",
              "    .dataframe tbody tr th {\n",
              "        vertical-align: top;\n",
              "    }\n",
              "\n",
              "    .dataframe thead th {\n",
              "        text-align: right;\n",
              "    }\n",
              "</style>\n",
              "<table border=\"1\" class=\"dataframe\">\n",
              "  <thead>\n",
              "    <tr style=\"text-align: right;\">\n",
              "      <th></th>\n",
              "      <th>Price</th>\n",
              "      <th>Year</th>\n",
              "      <th>Mileage</th>\n",
              "      <th>City</th>\n",
              "      <th>State</th>\n",
              "      <th>Vin</th>\n",
              "      <th>Make</th>\n",
              "      <th>Model</th>\n",
              "    </tr>\n",
              "  </thead>\n",
              "  <tbody>\n",
              "    <tr>\n",
              "      <th>0</th>\n",
              "      <td>8995</td>\n",
              "      <td>2014</td>\n",
              "      <td>35725</td>\n",
              "      <td>El Paso</td>\n",
              "      <td>TX</td>\n",
              "      <td>19VDE2E53EE000083</td>\n",
              "      <td>Acura</td>\n",
              "      <td>ILX6-Speed</td>\n",
              "    </tr>\n",
              "    <tr>\n",
              "      <th>1</th>\n",
              "      <td>10888</td>\n",
              "      <td>2013</td>\n",
              "      <td>19606</td>\n",
              "      <td>Long Island City</td>\n",
              "      <td>NY</td>\n",
              "      <td>19VDE1F52DE012636</td>\n",
              "      <td>Acura</td>\n",
              "      <td>ILX5-Speed</td>\n",
              "    </tr>\n",
              "    <tr>\n",
              "      <th>2</th>\n",
              "      <td>8995</td>\n",
              "      <td>2013</td>\n",
              "      <td>48851</td>\n",
              "      <td>El Paso</td>\n",
              "      <td>TX</td>\n",
              "      <td>19VDE2E52DE000025</td>\n",
              "      <td>Acura</td>\n",
              "      <td>ILX6-Speed</td>\n",
              "    </tr>\n",
              "    <tr>\n",
              "      <th>3</th>\n",
              "      <td>10999</td>\n",
              "      <td>2014</td>\n",
              "      <td>39922</td>\n",
              "      <td>Windsor</td>\n",
              "      <td>CO</td>\n",
              "      <td>19VDE1F71EE003817</td>\n",
              "      <td>Acura</td>\n",
              "      <td>ILX5-Speed</td>\n",
              "    </tr>\n",
              "    <tr>\n",
              "      <th>4</th>\n",
              "      <td>14799</td>\n",
              "      <td>2016</td>\n",
              "      <td>22142</td>\n",
              "      <td>Lindon</td>\n",
              "      <td>UT</td>\n",
              "      <td>19UDE2F32GA001284</td>\n",
              "      <td>Acura</td>\n",
              "      <td>ILXAutomatic</td>\n",
              "    </tr>\n",
              "  </tbody>\n",
              "</table>\n",
              "</div>\n",
              "      <button class=\"colab-df-convert\" onclick=\"convertToInteractive('df-6386b7d4-5f4f-4cd1-a2c6-95a20e5d8ceb')\"\n",
              "              title=\"Convert this dataframe to an interactive table.\"\n",
              "              style=\"display:none;\">\n",
              "        \n",
              "  <svg xmlns=\"http://www.w3.org/2000/svg\" height=\"24px\"viewBox=\"0 0 24 24\"\n",
              "       width=\"24px\">\n",
              "    <path d=\"M0 0h24v24H0V0z\" fill=\"none\"/>\n",
              "    <path d=\"M18.56 5.44l.94 2.06.94-2.06 2.06-.94-2.06-.94-.94-2.06-.94 2.06-2.06.94zm-11 1L8.5 8.5l.94-2.06 2.06-.94-2.06-.94L8.5 2.5l-.94 2.06-2.06.94zm10 10l.94 2.06.94-2.06 2.06-.94-2.06-.94-.94-2.06-.94 2.06-2.06.94z\"/><path d=\"M17.41 7.96l-1.37-1.37c-.4-.4-.92-.59-1.43-.59-.52 0-1.04.2-1.43.59L10.3 9.45l-7.72 7.72c-.78.78-.78 2.05 0 2.83L4 21.41c.39.39.9.59 1.41.59.51 0 1.02-.2 1.41-.59l7.78-7.78 2.81-2.81c.8-.78.8-2.07 0-2.86zM5.41 20L4 18.59l7.72-7.72 1.47 1.35L5.41 20z\"/>\n",
              "  </svg>\n",
              "      </button>\n",
              "      \n",
              "  <style>\n",
              "    .colab-df-container {\n",
              "      display:flex;\n",
              "      flex-wrap:wrap;\n",
              "      gap: 12px;\n",
              "    }\n",
              "\n",
              "    .colab-df-convert {\n",
              "      background-color: #E8F0FE;\n",
              "      border: none;\n",
              "      border-radius: 50%;\n",
              "      cursor: pointer;\n",
              "      display: none;\n",
              "      fill: #1967D2;\n",
              "      height: 32px;\n",
              "      padding: 0 0 0 0;\n",
              "      width: 32px;\n",
              "    }\n",
              "\n",
              "    .colab-df-convert:hover {\n",
              "      background-color: #E2EBFA;\n",
              "      box-shadow: 0px 1px 2px rgba(60, 64, 67, 0.3), 0px 1px 3px 1px rgba(60, 64, 67, 0.15);\n",
              "      fill: #174EA6;\n",
              "    }\n",
              "\n",
              "    [theme=dark] .colab-df-convert {\n",
              "      background-color: #3B4455;\n",
              "      fill: #D2E3FC;\n",
              "    }\n",
              "\n",
              "    [theme=dark] .colab-df-convert:hover {\n",
              "      background-color: #434B5C;\n",
              "      box-shadow: 0px 1px 3px 1px rgba(0, 0, 0, 0.15);\n",
              "      filter: drop-shadow(0px 1px 2px rgba(0, 0, 0, 0.3));\n",
              "      fill: #FFFFFF;\n",
              "    }\n",
              "  </style>\n",
              "\n",
              "      <script>\n",
              "        const buttonEl =\n",
              "          document.querySelector('#df-6386b7d4-5f4f-4cd1-a2c6-95a20e5d8ceb button.colab-df-convert');\n",
              "        buttonEl.style.display =\n",
              "          google.colab.kernel.accessAllowed ? 'block' : 'none';\n",
              "\n",
              "        async function convertToInteractive(key) {\n",
              "          const element = document.querySelector('#df-6386b7d4-5f4f-4cd1-a2c6-95a20e5d8ceb');\n",
              "          const dataTable =\n",
              "            await google.colab.kernel.invokeFunction('convertToInteractive',\n",
              "                                                     [key], {});\n",
              "          if (!dataTable) return;\n",
              "\n",
              "          const docLinkHtml = 'Like what you see? Visit the ' +\n",
              "            '<a target=\"_blank\" href=https://colab.research.google.com/notebooks/data_table.ipynb>data table notebook</a>'\n",
              "            + ' to learn more about interactive tables.';\n",
              "          element.innerHTML = '';\n",
              "          dataTable['output_type'] = 'display_data';\n",
              "          await google.colab.output.renderOutput(dataTable, element);\n",
              "          const docLink = document.createElement('div');\n",
              "          docLink.innerHTML = docLinkHtml;\n",
              "          element.appendChild(docLink);\n",
              "        }\n",
              "      </script>\n",
              "    </div>\n",
              "  </div>\n",
              "  "
            ]
          },
          "metadata": {},
          "execution_count": 8
        }
      ]
    },
    {
      "cell_type": "code",
      "source": [
        "df.tail()"
      ],
      "metadata": {
        "colab": {
          "base_uri": "https://localhost:8080/",
          "height": 206
        },
        "id": "K4FQviZxxAM8",
        "outputId": "4f701efc-b620-455b-9a2a-7dba818f8dbf"
      },
      "execution_count": 9,
      "outputs": [
        {
          "output_type": "execute_result",
          "data": {
            "text/plain": [
              "        Price  Year  Mileage          City State                Vin   Make  \\\n",
              "852117  63215  2017        9   Culver City    CA  YV1A22MK9H1013237  Volvo   \n",
              "852118  72260  2017     3201     Englewood    NJ  YV4A22PL3H1186162  Volvo   \n",
              "852119  55999  2016    28941  Fort Collins    CO  YV4A22PL4G1000868  Volvo   \n",
              "852120  60240  2017     3005   San Leandro    CA  YV4A22NLXH1006162  Volvo   \n",
              "852121  76995  2017     2502      New York    NY  YV4BC0ZX1H1109845  Volvo   \n",
              "\n",
              "          Model  \n",
              "852117    S90T6  \n",
              "852118   XC90T6  \n",
              "852119  XC90AWD  \n",
              "852120      V90  \n",
              "852121   XC90T8  "
            ],
            "text/html": [
              "\n",
              "  <div id=\"df-bbf9b56d-2ac5-4155-8cb2-98e248b37de7\">\n",
              "    <div class=\"colab-df-container\">\n",
              "      <div>\n",
              "<style scoped>\n",
              "    .dataframe tbody tr th:only-of-type {\n",
              "        vertical-align: middle;\n",
              "    }\n",
              "\n",
              "    .dataframe tbody tr th {\n",
              "        vertical-align: top;\n",
              "    }\n",
              "\n",
              "    .dataframe thead th {\n",
              "        text-align: right;\n",
              "    }\n",
              "</style>\n",
              "<table border=\"1\" class=\"dataframe\">\n",
              "  <thead>\n",
              "    <tr style=\"text-align: right;\">\n",
              "      <th></th>\n",
              "      <th>Price</th>\n",
              "      <th>Year</th>\n",
              "      <th>Mileage</th>\n",
              "      <th>City</th>\n",
              "      <th>State</th>\n",
              "      <th>Vin</th>\n",
              "      <th>Make</th>\n",
              "      <th>Model</th>\n",
              "    </tr>\n",
              "  </thead>\n",
              "  <tbody>\n",
              "    <tr>\n",
              "      <th>852117</th>\n",
              "      <td>63215</td>\n",
              "      <td>2017</td>\n",
              "      <td>9</td>\n",
              "      <td>Culver City</td>\n",
              "      <td>CA</td>\n",
              "      <td>YV1A22MK9H1013237</td>\n",
              "      <td>Volvo</td>\n",
              "      <td>S90T6</td>\n",
              "    </tr>\n",
              "    <tr>\n",
              "      <th>852118</th>\n",
              "      <td>72260</td>\n",
              "      <td>2017</td>\n",
              "      <td>3201</td>\n",
              "      <td>Englewood</td>\n",
              "      <td>NJ</td>\n",
              "      <td>YV4A22PL3H1186162</td>\n",
              "      <td>Volvo</td>\n",
              "      <td>XC90T6</td>\n",
              "    </tr>\n",
              "    <tr>\n",
              "      <th>852119</th>\n",
              "      <td>55999</td>\n",
              "      <td>2016</td>\n",
              "      <td>28941</td>\n",
              "      <td>Fort Collins</td>\n",
              "      <td>CO</td>\n",
              "      <td>YV4A22PL4G1000868</td>\n",
              "      <td>Volvo</td>\n",
              "      <td>XC90AWD</td>\n",
              "    </tr>\n",
              "    <tr>\n",
              "      <th>852120</th>\n",
              "      <td>60240</td>\n",
              "      <td>2017</td>\n",
              "      <td>3005</td>\n",
              "      <td>San Leandro</td>\n",
              "      <td>CA</td>\n",
              "      <td>YV4A22NLXH1006162</td>\n",
              "      <td>Volvo</td>\n",
              "      <td>V90</td>\n",
              "    </tr>\n",
              "    <tr>\n",
              "      <th>852121</th>\n",
              "      <td>76995</td>\n",
              "      <td>2017</td>\n",
              "      <td>2502</td>\n",
              "      <td>New York</td>\n",
              "      <td>NY</td>\n",
              "      <td>YV4BC0ZX1H1109845</td>\n",
              "      <td>Volvo</td>\n",
              "      <td>XC90T8</td>\n",
              "    </tr>\n",
              "  </tbody>\n",
              "</table>\n",
              "</div>\n",
              "      <button class=\"colab-df-convert\" onclick=\"convertToInteractive('df-bbf9b56d-2ac5-4155-8cb2-98e248b37de7')\"\n",
              "              title=\"Convert this dataframe to an interactive table.\"\n",
              "              style=\"display:none;\">\n",
              "        \n",
              "  <svg xmlns=\"http://www.w3.org/2000/svg\" height=\"24px\"viewBox=\"0 0 24 24\"\n",
              "       width=\"24px\">\n",
              "    <path d=\"M0 0h24v24H0V0z\" fill=\"none\"/>\n",
              "    <path d=\"M18.56 5.44l.94 2.06.94-2.06 2.06-.94-2.06-.94-.94-2.06-.94 2.06-2.06.94zm-11 1L8.5 8.5l.94-2.06 2.06-.94-2.06-.94L8.5 2.5l-.94 2.06-2.06.94zm10 10l.94 2.06.94-2.06 2.06-.94-2.06-.94-.94-2.06-.94 2.06-2.06.94z\"/><path d=\"M17.41 7.96l-1.37-1.37c-.4-.4-.92-.59-1.43-.59-.52 0-1.04.2-1.43.59L10.3 9.45l-7.72 7.72c-.78.78-.78 2.05 0 2.83L4 21.41c.39.39.9.59 1.41.59.51 0 1.02-.2 1.41-.59l7.78-7.78 2.81-2.81c.8-.78.8-2.07 0-2.86zM5.41 20L4 18.59l7.72-7.72 1.47 1.35L5.41 20z\"/>\n",
              "  </svg>\n",
              "      </button>\n",
              "      \n",
              "  <style>\n",
              "    .colab-df-container {\n",
              "      display:flex;\n",
              "      flex-wrap:wrap;\n",
              "      gap: 12px;\n",
              "    }\n",
              "\n",
              "    .colab-df-convert {\n",
              "      background-color: #E8F0FE;\n",
              "      border: none;\n",
              "      border-radius: 50%;\n",
              "      cursor: pointer;\n",
              "      display: none;\n",
              "      fill: #1967D2;\n",
              "      height: 32px;\n",
              "      padding: 0 0 0 0;\n",
              "      width: 32px;\n",
              "    }\n",
              "\n",
              "    .colab-df-convert:hover {\n",
              "      background-color: #E2EBFA;\n",
              "      box-shadow: 0px 1px 2px rgba(60, 64, 67, 0.3), 0px 1px 3px 1px rgba(60, 64, 67, 0.15);\n",
              "      fill: #174EA6;\n",
              "    }\n",
              "\n",
              "    [theme=dark] .colab-df-convert {\n",
              "      background-color: #3B4455;\n",
              "      fill: #D2E3FC;\n",
              "    }\n",
              "\n",
              "    [theme=dark] .colab-df-convert:hover {\n",
              "      background-color: #434B5C;\n",
              "      box-shadow: 0px 1px 3px 1px rgba(0, 0, 0, 0.15);\n",
              "      filter: drop-shadow(0px 1px 2px rgba(0, 0, 0, 0.3));\n",
              "      fill: #FFFFFF;\n",
              "    }\n",
              "  </style>\n",
              "\n",
              "      <script>\n",
              "        const buttonEl =\n",
              "          document.querySelector('#df-bbf9b56d-2ac5-4155-8cb2-98e248b37de7 button.colab-df-convert');\n",
              "        buttonEl.style.display =\n",
              "          google.colab.kernel.accessAllowed ? 'block' : 'none';\n",
              "\n",
              "        async function convertToInteractive(key) {\n",
              "          const element = document.querySelector('#df-bbf9b56d-2ac5-4155-8cb2-98e248b37de7');\n",
              "          const dataTable =\n",
              "            await google.colab.kernel.invokeFunction('convertToInteractive',\n",
              "                                                     [key], {});\n",
              "          if (!dataTable) return;\n",
              "\n",
              "          const docLinkHtml = 'Like what you see? Visit the ' +\n",
              "            '<a target=\"_blank\" href=https://colab.research.google.com/notebooks/data_table.ipynb>data table notebook</a>'\n",
              "            + ' to learn more about interactive tables.';\n",
              "          element.innerHTML = '';\n",
              "          dataTable['output_type'] = 'display_data';\n",
              "          await google.colab.output.renderOutput(dataTable, element);\n",
              "          const docLink = document.createElement('div');\n",
              "          docLink.innerHTML = docLinkHtml;\n",
              "          element.appendChild(docLink);\n",
              "        }\n",
              "      </script>\n",
              "    </div>\n",
              "  </div>\n",
              "  "
            ]
          },
          "metadata": {},
          "execution_count": 9
        }
      ]
    },
    {
      "cell_type": "code",
      "source": [
        "df.describe()"
      ],
      "metadata": {
        "colab": {
          "base_uri": "https://localhost:8080/",
          "height": 300
        },
        "id": "7y1KvFdDxDoI",
        "outputId": "5ee5564b-96d2-4fa8-eb5d-104f66fd31ed"
      },
      "execution_count": 10,
      "outputs": [
        {
          "output_type": "execute_result",
          "data": {
            "text/plain": [
              "               Price           Year       Mileage\n",
              "count  852122.000000  852122.000000  8.521220e+05\n",
              "mean    21464.100210    2013.289145  5.250779e+04\n",
              "std     13596.202241       3.414987  4.198896e+04\n",
              "min      1500.000000    1997.000000  5.000000e+00\n",
              "25%     13000.000000    2012.000000  2.383600e+04\n",
              "50%     18500.000000    2014.000000  4.025600e+04\n",
              "75%     26995.000000    2016.000000  7.218600e+04\n",
              "max    499500.000000    2018.000000  2.856196e+06"
            ],
            "text/html": [
              "\n",
              "  <div id=\"df-bb763bb2-0647-4c5d-b978-3657ed531411\">\n",
              "    <div class=\"colab-df-container\">\n",
              "      <div>\n",
              "<style scoped>\n",
              "    .dataframe tbody tr th:only-of-type {\n",
              "        vertical-align: middle;\n",
              "    }\n",
              "\n",
              "    .dataframe tbody tr th {\n",
              "        vertical-align: top;\n",
              "    }\n",
              "\n",
              "    .dataframe thead th {\n",
              "        text-align: right;\n",
              "    }\n",
              "</style>\n",
              "<table border=\"1\" class=\"dataframe\">\n",
              "  <thead>\n",
              "    <tr style=\"text-align: right;\">\n",
              "      <th></th>\n",
              "      <th>Price</th>\n",
              "      <th>Year</th>\n",
              "      <th>Mileage</th>\n",
              "    </tr>\n",
              "  </thead>\n",
              "  <tbody>\n",
              "    <tr>\n",
              "      <th>count</th>\n",
              "      <td>852122.000000</td>\n",
              "      <td>852122.000000</td>\n",
              "      <td>8.521220e+05</td>\n",
              "    </tr>\n",
              "    <tr>\n",
              "      <th>mean</th>\n",
              "      <td>21464.100210</td>\n",
              "      <td>2013.289145</td>\n",
              "      <td>5.250779e+04</td>\n",
              "    </tr>\n",
              "    <tr>\n",
              "      <th>std</th>\n",
              "      <td>13596.202241</td>\n",
              "      <td>3.414987</td>\n",
              "      <td>4.198896e+04</td>\n",
              "    </tr>\n",
              "    <tr>\n",
              "      <th>min</th>\n",
              "      <td>1500.000000</td>\n",
              "      <td>1997.000000</td>\n",
              "      <td>5.000000e+00</td>\n",
              "    </tr>\n",
              "    <tr>\n",
              "      <th>25%</th>\n",
              "      <td>13000.000000</td>\n",
              "      <td>2012.000000</td>\n",
              "      <td>2.383600e+04</td>\n",
              "    </tr>\n",
              "    <tr>\n",
              "      <th>50%</th>\n",
              "      <td>18500.000000</td>\n",
              "      <td>2014.000000</td>\n",
              "      <td>4.025600e+04</td>\n",
              "    </tr>\n",
              "    <tr>\n",
              "      <th>75%</th>\n",
              "      <td>26995.000000</td>\n",
              "      <td>2016.000000</td>\n",
              "      <td>7.218600e+04</td>\n",
              "    </tr>\n",
              "    <tr>\n",
              "      <th>max</th>\n",
              "      <td>499500.000000</td>\n",
              "      <td>2018.000000</td>\n",
              "      <td>2.856196e+06</td>\n",
              "    </tr>\n",
              "  </tbody>\n",
              "</table>\n",
              "</div>\n",
              "      <button class=\"colab-df-convert\" onclick=\"convertToInteractive('df-bb763bb2-0647-4c5d-b978-3657ed531411')\"\n",
              "              title=\"Convert this dataframe to an interactive table.\"\n",
              "              style=\"display:none;\">\n",
              "        \n",
              "  <svg xmlns=\"http://www.w3.org/2000/svg\" height=\"24px\"viewBox=\"0 0 24 24\"\n",
              "       width=\"24px\">\n",
              "    <path d=\"M0 0h24v24H0V0z\" fill=\"none\"/>\n",
              "    <path d=\"M18.56 5.44l.94 2.06.94-2.06 2.06-.94-2.06-.94-.94-2.06-.94 2.06-2.06.94zm-11 1L8.5 8.5l.94-2.06 2.06-.94-2.06-.94L8.5 2.5l-.94 2.06-2.06.94zm10 10l.94 2.06.94-2.06 2.06-.94-2.06-.94-.94-2.06-.94 2.06-2.06.94z\"/><path d=\"M17.41 7.96l-1.37-1.37c-.4-.4-.92-.59-1.43-.59-.52 0-1.04.2-1.43.59L10.3 9.45l-7.72 7.72c-.78.78-.78 2.05 0 2.83L4 21.41c.39.39.9.59 1.41.59.51 0 1.02-.2 1.41-.59l7.78-7.78 2.81-2.81c.8-.78.8-2.07 0-2.86zM5.41 20L4 18.59l7.72-7.72 1.47 1.35L5.41 20z\"/>\n",
              "  </svg>\n",
              "      </button>\n",
              "      \n",
              "  <style>\n",
              "    .colab-df-container {\n",
              "      display:flex;\n",
              "      flex-wrap:wrap;\n",
              "      gap: 12px;\n",
              "    }\n",
              "\n",
              "    .colab-df-convert {\n",
              "      background-color: #E8F0FE;\n",
              "      border: none;\n",
              "      border-radius: 50%;\n",
              "      cursor: pointer;\n",
              "      display: none;\n",
              "      fill: #1967D2;\n",
              "      height: 32px;\n",
              "      padding: 0 0 0 0;\n",
              "      width: 32px;\n",
              "    }\n",
              "\n",
              "    .colab-df-convert:hover {\n",
              "      background-color: #E2EBFA;\n",
              "      box-shadow: 0px 1px 2px rgba(60, 64, 67, 0.3), 0px 1px 3px 1px rgba(60, 64, 67, 0.15);\n",
              "      fill: #174EA6;\n",
              "    }\n",
              "\n",
              "    [theme=dark] .colab-df-convert {\n",
              "      background-color: #3B4455;\n",
              "      fill: #D2E3FC;\n",
              "    }\n",
              "\n",
              "    [theme=dark] .colab-df-convert:hover {\n",
              "      background-color: #434B5C;\n",
              "      box-shadow: 0px 1px 3px 1px rgba(0, 0, 0, 0.15);\n",
              "      filter: drop-shadow(0px 1px 2px rgba(0, 0, 0, 0.3));\n",
              "      fill: #FFFFFF;\n",
              "    }\n",
              "  </style>\n",
              "\n",
              "      <script>\n",
              "        const buttonEl =\n",
              "          document.querySelector('#df-bb763bb2-0647-4c5d-b978-3657ed531411 button.colab-df-convert');\n",
              "        buttonEl.style.display =\n",
              "          google.colab.kernel.accessAllowed ? 'block' : 'none';\n",
              "\n",
              "        async function convertToInteractive(key) {\n",
              "          const element = document.querySelector('#df-bb763bb2-0647-4c5d-b978-3657ed531411');\n",
              "          const dataTable =\n",
              "            await google.colab.kernel.invokeFunction('convertToInteractive',\n",
              "                                                     [key], {});\n",
              "          if (!dataTable) return;\n",
              "\n",
              "          const docLinkHtml = 'Like what you see? Visit the ' +\n",
              "            '<a target=\"_blank\" href=https://colab.research.google.com/notebooks/data_table.ipynb>data table notebook</a>'\n",
              "            + ' to learn more about interactive tables.';\n",
              "          element.innerHTML = '';\n",
              "          dataTable['output_type'] = 'display_data';\n",
              "          await google.colab.output.renderOutput(dataTable, element);\n",
              "          const docLink = document.createElement('div');\n",
              "          docLink.innerHTML = docLinkHtml;\n",
              "          element.appendChild(docLink);\n",
              "        }\n",
              "      </script>\n",
              "    </div>\n",
              "  </div>\n",
              "  "
            ]
          },
          "metadata": {},
          "execution_count": 10
        }
      ]
    },
    {
      "cell_type": "code",
      "source": [
        "df.columns"
      ],
      "metadata": {
        "colab": {
          "base_uri": "https://localhost:8080/",
          "height": 0
        },
        "id": "Dffc3i0kxGA_",
        "outputId": "3d8397fb-8c58-4a3c-e642-5f15322151d3"
      },
      "execution_count": 11,
      "outputs": [
        {
          "output_type": "execute_result",
          "data": {
            "text/plain": [
              "Index(['Price', 'Year', 'Mileage', 'City', 'State', 'Vin', 'Make', 'Model'], dtype='object')"
            ]
          },
          "metadata": {},
          "execution_count": 11
        }
      ]
    },
    {
      "cell_type": "code",
      "source": [
        "df.nunique()"
      ],
      "metadata": {
        "colab": {
          "base_uri": "https://localhost:8080/",
          "height": 0
        },
        "id": "tYAscNgDxIrk",
        "outputId": "0784b154-5b69-47ad-e1c9-9db4b8022b06"
      },
      "execution_count": 15,
      "outputs": [
        {
          "output_type": "execute_result",
          "data": {
            "text/plain": [
              "Price       47124\n",
              "Year           22\n",
              "Mileage    158836\n",
              "City         2553\n",
              "State          59\n",
              "Vin        852075\n",
              "Make           58\n",
              "Model        2736\n",
              "dtype: int64"
            ]
          },
          "metadata": {},
          "execution_count": 15
        }
      ]
    },
    {
      "cell_type": "code",
      "source": [
        "df['Year'].unique()"
      ],
      "metadata": {
        "colab": {
          "base_uri": "https://localhost:8080/",
          "height": 0
        },
        "id": "pf1-BLi_xNx3",
        "outputId": "bd951a76-1425-475d-a72b-33dcfcdb6a6b"
      },
      "execution_count": 20,
      "outputs": [
        {
          "output_type": "execute_result",
          "data": {
            "text/plain": [
              "array([2014, 2013, 2016, 2012, 2009, 2015, 2010, 2011, 2007, 2006, 2008,\n",
              "       2004, 2017, 2005, 2003, 2002, 1999, 2001, 2000, 1998, 2018, 1997])"
            ]
          },
          "metadata": {},
          "execution_count": 20
        }
      ]
    },
    {
      "cell_type": "code",
      "source": [
        "df['Make'].unique()"
      ],
      "metadata": {
        "colab": {
          "base_uri": "https://localhost:8080/",
          "height": 0
        },
        "id": "fEBwkEJZxSA6",
        "outputId": "fe3c577c-696f-4a44-c094-7321a1ceb0f8"
      },
      "execution_count": 19,
      "outputs": [
        {
          "output_type": "execute_result",
          "data": {
            "text/plain": [
              "array(['Acura', 'Alfa', 'AM', 'Aston', 'Audi', 'Bentley', 'BMW', 'Buick',\n",
              "       'Cadillac', 'Chevrolet', 'Chrysler', 'Dodge', 'Ferrari', 'FIAT',\n",
              "       'Fisker', 'Ford', 'Freightliner', 'Genesis', 'Geo', 'GMC', 'Honda',\n",
              "       'HUMMER', 'Hyundai', 'INFINITI', 'Isuzu', 'Jaguar', 'Jeep', 'Kia',\n",
              "       'Lamborghini', 'Land', 'Lexus', 'Lincoln', 'Lotus', 'Maserati',\n",
              "       'Maybach', 'Mazda', 'McLaren', 'Mercedes-Benz', 'Mercury', 'MINI',\n",
              "       'Mitsubishi', 'Nissan', 'Oldsmobile', 'Plymouth', 'Pontiac',\n",
              "       'Porsche', 'Ram', 'Rolls-Royce', 'Saab', 'Saturn', 'Scion',\n",
              "       'smart', 'Subaru', 'Suzuki', 'Tesla', 'Toyota', 'Volkswagen',\n",
              "       'Volvo'], dtype=object)"
            ]
          },
          "metadata": {},
          "execution_count": 19
        }
      ]
    },
    {
      "cell_type": "code",
      "source": [
        "df['City'].unique()"
      ],
      "metadata": {
        "id": "LqPDDe7sxYtd"
      },
      "execution_count": null,
      "outputs": []
    },
    {
      "cell_type": "code",
      "source": [
        "df.isnull().sum()"
      ],
      "metadata": {
        "colab": {
          "base_uri": "https://localhost:8080/",
          "height": 0
        },
        "id": "CE_yyzdDxdOx",
        "outputId": "65134673-8bec-4851-e666-daa8553f7d7d"
      },
      "execution_count": 18,
      "outputs": [
        {
          "output_type": "execute_result",
          "data": {
            "text/plain": [
              "Price      0\n",
              "Year       0\n",
              "Mileage    0\n",
              "City       0\n",
              "State      0\n",
              "Vin        0\n",
              "Make       0\n",
              "Model      0\n",
              "dtype: int64"
            ]
          },
          "metadata": {},
          "execution_count": 18
        }
      ]
    },
    {
      "cell_type": "code",
      "source": [
        "df.dtypes"
      ],
      "metadata": {
        "colab": {
          "base_uri": "https://localhost:8080/",
          "height": 0
        },
        "id": "G5o6NXOvxd1T",
        "outputId": "171458f5-9986-478e-b5e4-088f14cd970f"
      },
      "execution_count": 17,
      "outputs": [
        {
          "output_type": "execute_result",
          "data": {
            "text/plain": [
              "Price       int64\n",
              "Year        int64\n",
              "Mileage     int64\n",
              "City       object\n",
              "State      object\n",
              "Vin        object\n",
              "Make       object\n",
              "Model      object\n",
              "dtype: object"
            ]
          },
          "metadata": {},
          "execution_count": 17
        }
      ]
    },
    {
      "cell_type": "code",
      "source": [
        "#detecting outliers\n",
        "sns.boxplot(x=df['Price'])"
      ],
      "metadata": {
        "colab": {
          "base_uri": "https://localhost:8080/",
          "height": 297
        },
        "id": "KU5fU7JexiLu",
        "outputId": "edd1e2af-2874-4efe-c3c1-28d404c9795e"
      },
      "execution_count": 16,
      "outputs": [
        {
          "output_type": "execute_result",
          "data": {
            "text/plain": [
              "<matplotlib.axes._subplots.AxesSubplot at 0x7f19aef7b210>"
            ]
          },
          "metadata": {},
          "execution_count": 16
        },
        {
          "output_type": "display_data",
          "data": {
            "text/plain": [
              "<Figure size 432x288 with 1 Axes>"
            ],
            "image/png": "[encoded data removed]"
          },
          "metadata": {
            "needs_background": "light"
          }
        }
      ]
    },
    {
      "cell_type": "code",
      "source": [
        "sns.boxplot(x=df['Mileage'])"
      ],
      "metadata": {
        "colab": {
          "base_uri": "https://localhost:8080/",
          "height": 297
        },
        "id": "oY2Lnnzfxipn",
        "outputId": "7c4e9bdd-e0ac-440f-c93c-ee467aac9f99"
      },
      "execution_count": 14,
      "outputs": [
        {
          "output_type": "execute_result",
          "data": {
            "text/plain": [
              "<matplotlib.axes._subplots.AxesSubplot at 0x7f19af4e6ad0>"
            ]
          },
          "metadata": {},
          "execution_count": 14
        },
        {
          "output_type": "display_data",
          "data": {
            "text/plain": [
              "<Figure size 432x288 with 1 Axes>"
            ],
            "image/png": "[encoded data removed]"
          },
          "metadata": {
            "needs_background": "light"
          }
        }
      ]
    },
    {
      "cell_type": "code",
      "source": [
        "Q1=df.quantile(0.25)\n",
        "Q3=df.quantile(0.75)\n",
        "IQR =Q3-Q1\n",
        "print(IQR)"
      ],
      "metadata": {
        "colab": {
          "base_uri": "https://localhost:8080/",
          "height": 0
        },
        "id": "s5_C5BnJxisN",
        "outputId": "bd18b96b-8b9e-4006-9a07-766fdd139feb"
      },
      "execution_count": 13,
      "outputs": [
        {
          "output_type": "stream",
          "name": "stdout",
          "text": [
            "Price      13995.0\n",
            "Year           4.0\n",
            "Mileage    48350.0\n",
            "dtype: float64\n"
          ]
        }
      ]
    },
    {
      "cell_type": "code",
      "source": [
        "df=df[-((df<(Q1 - 1.5 * IQR))|(df > (Q3 + 1.5 *IQR))).any(axis=1)]\n",
        "df.shape"
      ],
      "metadata": {
        "colab": {
          "base_uri": "https://localhost:8080/",
          "height": 0
        },
        "id": "l_HpwU-Txiuy",
        "outputId": "ac9f35e6-ef01-4997-c9db-bf4d57ff40cb"
      },
      "execution_count": 21,
      "outputs": [
        {
          "output_type": "stream",
          "name": "stderr",
          "text": [
            "/usr/local/lib/python3.7/dist-packages/ipykernel_launcher.py:1: FutureWarning: Automatic reindexing on DataFrame vs Series comparisons is deprecated and will raise ValueError in a future version.  Do `left, right = left.align(right, axis=1, copy=False)` before e.g. `left == right`\n",
            "  \"\"\"Entry point for launching an IPython kernel.\n"
          ]
        },
        {
          "output_type": "execute_result",
          "data": {
            "text/plain": [
              "(770733, 8)"
            ]
          },
          "metadata": {},
          "execution_count": 21
        }
      ]
    },
    {
      "cell_type": "code",
      "source": [
        "plt.figure(figsize=(10,6))\n",
        "c = df.corr()\n",
        "sns.heatmap(c,annot=True)\n",
        "c"
      ],
      "metadata": {
        "colab": {
          "base_uri": "https://localhost:8080/",
          "height": 505
        },
        "id": "ow-A3fMWxixk",
        "outputId": "0c2df0b3-472b-41b7-a964-5724cf3d26e2"
      },
      "execution_count": 22,
      "outputs": [
        {
          "output_type": "execute_result",
          "data": {
            "text/plain": [
              "            Price      Year   Mileage\n",
              "Price    1.000000  0.433378 -0.448612\n",
              "Year     0.433378  1.000000 -0.763433\n",
              "Mileage -0.448612 -0.763433  1.000000"
            ],
            "text/html": [
              "\n",
              "  <div id=\"df-c7181eec-277c-428b-b4d6-77eafc823d6d\">\n",
              "    <div class=\"colab-df-container\">\n",
              "      <div>\n",
              "<style scoped>\n",
              "    .dataframe tbody tr th:only-of-type {\n",
              "        vertical-align: middle;\n",
              "    }\n",
              "\n",
              "    .dataframe tbody tr th {\n",
              "        vertical-align: top;\n",
              "    }\n",
              "\n",
              "    .dataframe thead th {\n",
              "        text-align: right;\n",
              "    }\n",
              "</style>\n",
              "<table border=\"1\" class=\"dataframe\">\n",
              "  <thead>\n",
              "    <tr style=\"text-align: right;\">\n",
              "      <th></th>\n",
              "      <th>Price</th>\n",
              "      <th>Year</th>\n",
              "      <th>Mileage</th>\n",
              "    </tr>\n",
              "  </thead>\n",
              "  <tbody>\n",
              "    <tr>\n",
              "      <th>Price</th>\n",
              "      <td>1.000000</td>\n",
              "      <td>0.433378</td>\n",
              "      <td>-0.448612</td>\n",
              "    </tr>\n",
              "    <tr>\n",
              "      <th>Year</th>\n",
              "      <td>0.433378</td>\n",
              "      <td>1.000000</td>\n",
              "      <td>-0.763433</td>\n",
              "    </tr>\n",
              "    <tr>\n",
              "      <th>Mileage</th>\n",
              "      <td>-0.448612</td>\n",
              "      <td>-0.763433</td>\n",
              "      <td>1.000000</td>\n",
              "    </tr>\n",
              "  </tbody>\n",
              "</table>\n",
              "</div>\n",
              "      <button class=\"colab-df-convert\" onclick=\"convertToInteractive('df-c7181eec-277c-428b-b4d6-77eafc823d6d')\"\n",
              "              title=\"Convert this dataframe to an interactive table.\"\n",
              "              style=\"display:none;\">\n",
              "        \n",
              "  <svg xmlns=\"http://www.w3.org/2000/svg\" height=\"24px\"viewBox=\"0 0 24 24\"\n",
              "       width=\"24px\">\n",
              "    <path d=\"M0 0h24v24H0V0z\" fill=\"none\"/>\n",
              "    <path d=\"M18.56 5.44l.94 2.06.94-2.06 2.06-.94-2.06-.94-.94-2.06-.94 2.06-2.06.94zm-11 1L8.5 8.5l.94-2.06 2.06-.94-2.06-.94L8.5 2.5l-.94 2.06-2.06.94zm10 10l.94 2.06.94-2.06 2.06-.94-2.06-.94-.94-2.06-.94 2.06-2.06.94z\"/><path d=\"M17.41 7.96l-1.37-1.37c-.4-.4-.92-.59-1.43-.59-.52 0-1.04.2-1.43.59L10.3 9.45l-7.72 7.72c-.78.78-.78 2.05 0 2.83L4 21.41c.39.39.9.59 1.41.59.51 0 1.02-.2 1.41-.59l7.78-7.78 2.81-2.81c.8-.78.8-2.07 0-2.86zM5.41 20L4 18.59l7.72-7.72 1.47 1.35L5.41 20z\"/>\n",
              "  </svg>\n",
              "      </button>\n",
              "      \n",
              "  <style>\n",
              "    .colab-df-container {\n",
              "      display:flex;\n",
              "      flex-wrap:wrap;\n",
              "      gap: 12px;\n",
              "    }\n",
              "\n",
              "    .colab-df-convert {\n",
              "      background-color: #E8F0FE;\n",
              "      border: none;\n",
              "      border-radius: 50%;\n",
              "      cursor: pointer;\n",
              "      display: none;\n",
              "      fill: #1967D2;\n",
              "      height: 32px;\n",
              "      padding: 0 0 0 0;\n",
              "      width: 32px;\n",
              "    }\n",
              "\n",
              "    .colab-df-convert:hover {\n",
              "      background-color: #E2EBFA;\n",
              "      box-shadow: 0px 1px 2px rgba(60, 64, 67, 0.3), 0px 1px 3px 1px rgba(60, 64, 67, 0.15);\n",
              "      fill: #174EA6;\n",
              "    }\n",
              "\n",
              "    [theme=dark] .colab-df-convert {\n",
              "      background-color: #3B4455;\n",
              "      fill: #D2E3FC;\n",
              "    }\n",
              "\n",
              "    [theme=dark] .colab-df-convert:hover {\n",
              "      background-color: #434B5C;\n",
              "      box-shadow: 0px 1px 3px 1px rgba(0, 0, 0, 0.15);\n",
              "      filter: drop-shadow(0px 1px 2px rgba(0, 0, 0, 0.3));\n",
              "      fill: #FFFFFF;\n",
              "    }\n",
              "  </style>\n",
              "\n",
              "      <script>\n",
              "        const buttonEl =\n",
              "          document.querySelector('#df-c7181eec-277c-428b-b4d6-77eafc823d6d button.colab-df-convert');\n",
              "        buttonEl.style.display =\n",
              "          google.colab.kernel.accessAllowed ? 'block' : 'none';\n",
              "\n",
              "        async function convertToInteractive(key) {\n",
              "          const element = document.querySelector('#df-c7181eec-277c-428b-b4d6-77eafc823d6d');\n",
              "          const dataTable =\n",
              "            await google.colab.kernel.invokeFunction('convertToInteractive',\n",
              "                                                     [key], {});\n",
              "          if (!dataTable) return;\n",
              "\n",
              "          const docLinkHtml = 'Like what you see? Visit the ' +\n",
              "            '<a target=\"_blank\" href=https://colab.research.google.com/notebooks/data_table.ipynb>data table notebook</a>'\n",
              "            + ' to learn more about interactive tables.';\n",
              "          element.innerHTML = '';\n",
              "          dataTable['output_type'] = 'display_data';\n",
              "          await google.colab.output.renderOutput(dataTable, element);\n",
              "          const docLink = document.createElement('div');\n",
              "          docLink.innerHTML = docLinkHtml;\n",
              "          element.appendChild(docLink);\n",
              "        }\n",
              "      </script>\n",
              "    </div>\n",
              "  </div>\n",
              "  "
            ]
          },
          "metadata": {},
          "execution_count": 22
        },
        {
          "output_type": "display_data",
          "data": {
            "text/plain": [
              "<Figure size 720x432 with 2 Axes>"
            ],
            "image/png": "[encoded data removed]"
          },
          "metadata": {
            "needs_background": "light"
          }
        }
      ]
    },
    {
      "cell_type": "code",
      "source": [
        "fig, ax = plt.subplots(figsize=(10,6))\n",
        "ax.scatter(df['Mileage'], df['Price'])\n",
        "ax.set_xlabel('Mileage')\n",
        "ax.set_ylabel('Price')\n",
        "plt.show"
      ],
      "metadata": {
        "colab": {
          "base_uri": "https://localhost:8080/",
          "height": 408
        },
        "id": "UGnnaW_4xi0j",
        "outputId": "723a765c-754a-4220-8a87-b0591644ea94"
      },
      "execution_count": 23,
      "outputs": [
        {
          "output_type": "execute_result",
          "data": {
            "text/plain": [
              "<function matplotlib.pyplot.show>"
            ]
          },
          "metadata": {},
          "execution_count": 23
        },
        {
          "output_type": "display_data",
          "data": {
            "text/plain": [
              "<Figure size 720x432 with 1 Axes>"
            ],
            "image/png": "[encoded data removed]"
          },
          "metadata": {
            "needs_background": "light"
          }
        }
      ]
    },
    {
      "cell_type": "code",
      "source": [
        "plt.figure (figsize=(15,10))\n",
        "mins=df.Price.min()\n",
        "maxs=df.Price.max()\n",
        "scale=(maxs-mins)/20\n",
        "sns.distplot(x=df['Price'])\n",
        "plt.xlabel('Price',size=15, color='red')\n",
        "plt.title('Price distribution',size=15,color='Orange')\n",
        "plt.xticks(list(range(mins,maxs,int(scale))))\n",
        "plt.show()"
      ],
      "metadata": {
        "colab": {
          "base_uri": "https://localhost:8080/",
          "height": 684
        },
        "id": "xDI8eLzwxi3n",
        "outputId": "b6c4ea9e-76eb-4461-d460-ba1d1a2bc6d9"
      },
      "execution_count": 24,
      "outputs": [
        {
          "output_type": "stream",
          "name": "stderr",
          "text": [
            "/usr/local/lib/python3.7/dist-packages/seaborn/distributions.py:2619: FutureWarning: `distplot` is a deprecated function and will be removed in a future version. Please adapt your code to use either `displot` (a figure-level function with similar flexibility) or `histplot` (an axes-level function for histograms).\n",
            "  warnings.warn(msg, FutureWarning)\n"
          ]
        },
        {
          "output_type": "display_data",
          "data": {
            "text/plain": [
              "<Figure size 1080x720 with 1 Axes>"
            ],
            "image/png": "[encoded data removed]"
          },
          "metadata": {
            "needs_background": "light"
          }
        }
      ]
    },
    {
      "cell_type": "code",
      "source": [
        "sns.pairplot(df)"
      ],
      "metadata": {
        "colab": {
          "base_uri": "https://localhost:8080/",
          "height": 568
        },
        "id": "BYXAQHmwxi6y",
        "outputId": "cae24d6f-dd28-4506-a43d-ad922af79263"
      },
      "execution_count": 25,
      "outputs": [
        {
          "output_type": "execute_result",
          "data": {
            "text/plain": [
              "<seaborn.axisgrid.PairGrid at 0x7f19aef01a10>"
            ]
          },
          "metadata": {},
          "execution_count": 25
        },
        {
          "output_type": "display_data",
          "data": {
            "text/plain": [
              "<Figure size 540x540 with 12 Axes>"
            ],
            "image/png": "[encoded data removed]"
          },
          "metadata": {
            "needs_background": "light"
          }
        }
      ]
    },
    {
      "cell_type": "code",
      "source": [
        "plt.figure(figsize=(16, 8))\n",
        "sns.countplot(y=df['Year'])\n",
        "plt.ylabel('Year of Manufacture',size=15)\n",
        "plt.title('Yearly_Sales',size=15)\n",
        "plt.show()\n"
      ],
      "metadata": {
        "colab": {
          "base_uri": "https://localhost:8080/",
          "height": 515
        },
        "id": "7iqHqrEixi9b",
        "outputId": "656225ee-19d5-4876-abdc-fc86c40a2a82"
      },
      "execution_count": 26,
      "outputs": [
        {
          "output_type": "display_data",
          "data": {
            "text/plain": [
              "<Figure size 1152x576 with 1 Axes>"
            ],
            "image/png": "[encoded data removed]"
          },
          "metadata": {
            "needs_background": "light"
          }
        }
      ]
    },
    {
      "cell_type": "code",
      "source": [
        "#DNN"
      ],
      "metadata": {
        "id": "fX0wsMMiyyRe"
      },
      "execution_count": null,
      "outputs": []
    },
    {
      "cell_type": "code",
      "source": [
        "df_num = df.select_dtypes(include=[np.number])\n",
        "df_cat = df.select_dtypes(include=[object])"
      ],
      "metadata": {
        "id": "u5hOlrRw0Jik"
      },
      "execution_count": 42,
      "outputs": []
    },
    {
      "cell_type": "code",
      "source": [
        "from sklearn.preprocessing import LabelEncoder\n",
        "le = LabelEncoder()\n",
        "df_cat.head()"
      ],
      "metadata": {
        "colab": {
          "base_uri": "https://localhost:8080/",
          "height": 206
        },
        "id": "m7uf-hUJ0M6z",
        "outputId": "e2c92368-4a5c-426a-db2a-8b2de8a4e25a"
      },
      "execution_count": 43,
      "outputs": [
        {
          "output_type": "execute_result",
          "data": {
            "text/plain": [
              "               City State                Vin   Make         Model\n",
              "0           El Paso    TX  19VDE2E53EE000083  Acura    ILX6-Speed\n",
              "1  Long Island City    NY  19VDE1F52DE012636  Acura    ILX5-Speed\n",
              "2           El Paso    TX  19VDE2E52DE000025  Acura    ILX6-Speed\n",
              "3           Windsor    CO  19VDE1F71EE003817  Acura    ILX5-Speed\n",
              "4            Lindon    UT  19UDE2F32GA001284  Acura  ILXAutomatic"
            ],
            "text/html": [
              "\n",
              "  <div id=\"df-5485b7c2-c4f4-44a5-add1-e85e2cae62a7\">\n",
              "    <div class=\"colab-df-container\">\n",
              "      <div>\n",
              "<style scoped>\n",
              "    .dataframe tbody tr th:only-of-type {\n",
              "        vertical-align: middle;\n",
              "    }\n",
              "\n",
              "    .dataframe tbody tr th {\n",
              "        vertical-align: top;\n",
              "    }\n",
              "\n",
              "    .dataframe thead th {\n",
              "        text-align: right;\n",
              "    }\n",
              "</style>\n",
              "<table border=\"1\" class=\"dataframe\">\n",
              "  <thead>\n",
              "    <tr style=\"text-align: right;\">\n",
              "      <th></th>\n",
              "      <th>City</th>\n",
              "      <th>State</th>\n",
              "      <th>Vin</th>\n",
              "      <th>Make</th>\n",
              "      <th>Model</th>\n",
              "    </tr>\n",
              "  </thead>\n",
              "  <tbody>\n",
              "    <tr>\n",
              "      <th>0</th>\n",
              "      <td>El Paso</td>\n",
              "      <td>TX</td>\n",
              "      <td>19VDE2E53EE000083</td>\n",
              "      <td>Acura</td>\n",
              "      <td>ILX6-Speed</td>\n",
              "    </tr>\n",
              "    <tr>\n",
              "      <th>1</th>\n",
              "      <td>Long Island City</td>\n",
              "      <td>NY</td>\n",
              "      <td>19VDE1F52DE012636</td>\n",
              "      <td>Acura</td>\n",
              "      <td>ILX5-Speed</td>\n",
              "    </tr>\n",
              "    <tr>\n",
              "      <th>2</th>\n",
              "      <td>El Paso</td>\n",
              "      <td>TX</td>\n",
              "      <td>19VDE2E52DE000025</td>\n",
              "      <td>Acura</td>\n",
              "      <td>ILX6-Speed</td>\n",
              "    </tr>\n",
              "    <tr>\n",
              "      <th>3</th>\n",
              "      <td>Windsor</td>\n",
              "      <td>CO</td>\n",
              "      <td>19VDE1F71EE003817</td>\n",
              "      <td>Acura</td>\n",
              "      <td>ILX5-Speed</td>\n",
              "    </tr>\n",
              "    <tr>\n",
              "      <th>4</th>\n",
              "      <td>Lindon</td>\n",
              "      <td>UT</td>\n",
              "      <td>19UDE2F32GA001284</td>\n",
              "      <td>Acura</td>\n",
              "      <td>ILXAutomatic</td>\n",
              "    </tr>\n",
              "  </tbody>\n",
              "</table>\n",
              "</div>\n",
              "      <button class=\"colab-df-convert\" onclick=\"convertToInteractive('df-5485b7c2-c4f4-44a5-add1-e85e2cae62a7')\"\n",
              "              title=\"Convert this dataframe to an interactive table.\"\n",
              "              style=\"display:none;\">\n",
              "        \n",
              "  <svg xmlns=\"http://www.w3.org/2000/svg\" height=\"24px\"viewBox=\"0 0 24 24\"\n",
              "       width=\"24px\">\n",
              "    <path d=\"M0 0h24v24H0V0z\" fill=\"none\"/>\n",
              "    <path d=\"M18.56 5.44l.94 2.06.94-2.06 2.06-.94-2.06-.94-.94-2.06-.94 2.06-2.06.94zm-11 1L8.5 8.5l.94-2.06 2.06-.94-2.06-.94L8.5 2.5l-.94 2.06-2.06.94zm10 10l.94 2.06.94-2.06 2.06-.94-2.06-.94-.94-2.06-.94 2.06-2.06.94z\"/><path d=\"M17.41 7.96l-1.37-1.37c-.4-.4-.92-.59-1.43-.59-.52 0-1.04.2-1.43.59L10.3 9.45l-7.72 7.72c-.78.78-.78 2.05 0 2.83L4 21.41c.39.39.9.59 1.41.59.51 0 1.02-.2 1.41-.59l7.78-7.78 2.81-2.81c.8-.78.8-2.07 0-2.86zM5.41 20L4 18.59l7.72-7.72 1.47 1.35L5.41 20z\"/>\n",
              "  </svg>\n",
              "      </button>\n",
              "      \n",
              "  <style>\n",
              "    .colab-df-container {\n",
              "      display:flex;\n",
              "      flex-wrap:wrap;\n",
              "      gap: 12px;\n",
              "    }\n",
              "\n",
              "    .colab-df-convert {\n",
              "      background-color: #E8F0FE;\n",
              "      border: none;\n",
              "      border-radius: 50%;\n",
              "      cursor: pointer;\n",
              "      display: none;\n",
              "      fill: #1967D2;\n",
              "      height: 32px;\n",
              "      padding: 0 0 0 0;\n",
              "      width: 32px;\n",
              "    }\n",
              "\n",
              "    .colab-df-convert:hover {\n",
              "      background-color: #E2EBFA;\n",
              "      box-shadow: 0px 1px 2px rgba(60, 64, 67, 0.3), 0px 1px 3px 1px rgba(60, 64, 67, 0.15);\n",
              "      fill: #174EA6;\n",
              "    }\n",
              "\n",
              "    [theme=dark] .colab-df-convert {\n",
              "      background-color: #3B4455;\n",
              "      fill: #D2E3FC;\n",
              "    }\n",
              "\n",
              "    [theme=dark] .colab-df-convert:hover {\n",
              "      background-color: #434B5C;\n",
              "      box-shadow: 0px 1px 3px 1px rgba(0, 0, 0, 0.15);\n",
              "      filter: drop-shadow(0px 1px 2px rgba(0, 0, 0, 0.3));\n",
              "      fill: #FFFFFF;\n",
              "    }\n",
              "  </style>\n",
              "\n",
              "      <script>\n",
              "        const buttonEl =\n",
              "          document.querySelector('#df-5485b7c2-c4f4-44a5-add1-e85e2cae62a7 button.colab-df-convert');\n",
              "        buttonEl.style.display =\n",
              "          google.colab.kernel.accessAllowed ? 'block' : 'none';\n",
              "\n",
              "        async function convertToInteractive(key) {\n",
              "          const element = document.querySelector('#df-5485b7c2-c4f4-44a5-add1-e85e2cae62a7');\n",
              "          const dataTable =\n",
              "            await google.colab.kernel.invokeFunction('convertToInteractive',\n",
              "                                                     [key], {});\n",
              "          if (!dataTable) return;\n",
              "\n",
              "          const docLinkHtml = 'Like what you see? Visit the ' +\n",
              "            '<a target=\"_blank\" href=https://colab.research.google.com/notebooks/data_table.ipynb>data table notebook</a>'\n",
              "            + ' to learn more about interactive tables.';\n",
              "          element.innerHTML = '';\n",
              "          dataTable['output_type'] = 'display_data';\n",
              "          await google.colab.output.renderOutput(dataTable, element);\n",
              "          const docLink = document.createElement('div');\n",
              "          docLink.innerHTML = docLinkHtml;\n",
              "          element.appendChild(docLink);\n",
              "        }\n",
              "      </script>\n",
              "    </div>\n",
              "  </div>\n",
              "  "
            ]
          },
          "metadata": {},
          "execution_count": 43
        }
      ]
    },
    {
      "cell_type": "code",
      "source": [
        "encoded_cat= df_cat.apply(le.fit_transform)\n",
        "encoded_cat"
      ],
      "metadata": {
        "colab": {
          "base_uri": "https://localhost:8080/",
          "height": 423
        },
        "id": "0jyH-AC-0PuQ",
        "outputId": "e9edae94-db22-4ea7-8390-6aa5e08fbb95"
      },
      "execution_count": 44,
      "outputs": [
        {
          "output_type": "execute_result",
          "data": {
            "text/plain": [
              "        City  State     Vin  Make  Model\n",
              "0        646     49    3605     0    932\n",
              "1       1259     39    3341     0    931\n",
              "2        646     49    3603     0    932\n",
              "3       2489      6    3458     0    931\n",
              "4       1230     50      16     0    934\n",
              "...      ...    ...     ...   ...    ...\n",
              "852076  1812     35  764229    47   1917\n",
              "852089  1396     11  762874    47   1610\n",
              "852108  2005      5  763144    47   1916\n",
              "852111  2005      5  763241    47   1916\n",
              "852112  2005      5  763212    47   1916\n",
              "\n",
              "[770733 rows x 5 columns]"
            ],
            "text/html": [
              "\n",
              "  <div id=\"df-9f3177e6-1eed-4619-840a-832a53bb8fe4\">\n",
              "    <div class=\"colab-df-container\">\n",
              "      <div>\n",
              "<style scoped>\n",
              "    .dataframe tbody tr th:only-of-type {\n",
              "        vertical-align: middle;\n",
              "    }\n",
              "\n",
              "    .dataframe tbody tr th {\n",
              "        vertical-align: top;\n",
              "    }\n",
              "\n",
              "    .dataframe thead th {\n",
              "        text-align: right;\n",
              "    }\n",
              "</style>\n",
              "<table border=\"1\" class=\"dataframe\">\n",
              "  <thead>\n",
              "    <tr style=\"text-align: right;\">\n",
              "      <th></th>\n",
              "      <th>City</th>\n",
              "      <th>State</th>\n",
              "      <th>Vin</th>\n",
              "      <th>Make</th>\n",
              "      <th>Model</th>\n",
              "    </tr>\n",
              "  </thead>\n",
              "  <tbody>\n",
              "    <tr>\n",
              "      <th>0</th>\n",
              "      <td>646</td>\n",
              "      <td>49</td>\n",
              "      <td>3605</td>\n",
              "      <td>0</td>\n",
              "      <td>932</td>\n",
              "    </tr>\n",
              "    <tr>\n",
              "      <th>1</th>\n",
              "      <td>1259</td>\n",
              "      <td>39</td>\n",
              "      <td>3341</td>\n",
              "      <td>0</td>\n",
              "      <td>931</td>\n",
              "    </tr>\n",
              "    <tr>\n",
              "      <th>2</th>\n",
              "      <td>646</td>\n",
              "      <td>49</td>\n",
              "      <td>3603</td>\n",
              "      <td>0</td>\n",
              "      <td>932</td>\n",
              "    </tr>\n",
              "    <tr>\n",
              "      <th>3</th>\n",
              "      <td>2489</td>\n",
              "      <td>6</td>\n",
              "      <td>3458</td>\n",
              "      <td>0</td>\n",
              "      <td>931</td>\n",
              "    </tr>\n",
              "    <tr>\n",
              "      <th>4</th>\n",
              "      <td>1230</td>\n",
              "      <td>50</td>\n",
              "      <td>16</td>\n",
              "      <td>0</td>\n",
              "      <td>934</td>\n",
              "    </tr>\n",
              "    <tr>\n",
              "      <th>...</th>\n",
              "      <td>...</td>\n",
              "      <td>...</td>\n",
              "      <td>...</td>\n",
              "      <td>...</td>\n",
              "      <td>...</td>\n",
              "    </tr>\n",
              "    <tr>\n",
              "      <th>852076</th>\n",
              "      <td>1812</td>\n",
              "      <td>35</td>\n",
              "      <td>764229</td>\n",
              "      <td>47</td>\n",
              "      <td>1917</td>\n",
              "    </tr>\n",
              "    <tr>\n",
              "      <th>852089</th>\n",
              "      <td>1396</td>\n",
              "      <td>11</td>\n",
              "      <td>762874</td>\n",
              "      <td>47</td>\n",
              "      <td>1610</td>\n",
              "    </tr>\n",
              "    <tr>\n",
              "      <th>852108</th>\n",
              "      <td>2005</td>\n",
              "      <td>5</td>\n",
              "      <td>763144</td>\n",
              "      <td>47</td>\n",
              "      <td>1916</td>\n",
              "    </tr>\n",
              "    <tr>\n",
              "      <th>852111</th>\n",
              "      <td>2005</td>\n",
              "      <td>5</td>\n",
              "      <td>763241</td>\n",
              "      <td>47</td>\n",
              "      <td>1916</td>\n",
              "    </tr>\n",
              "    <tr>\n",
              "      <th>852112</th>\n",
              "      <td>2005</td>\n",
              "      <td>5</td>\n",
              "      <td>763212</td>\n",
              "      <td>47</td>\n",
              "      <td>1916</td>\n",
              "    </tr>\n",
              "  </tbody>\n",
              "</table>\n",
              "<p>770733 rows × 5 columns</p>\n",
              "</div>\n",
              "      <button class=\"colab-df-convert\" onclick=\"convertToInteractive('df-9f3177e6-1eed-4619-840a-832a53bb8fe4')\"\n",
              "              title=\"Convert this dataframe to an interactive table.\"\n",
              "              style=\"display:none;\">\n",
              "        \n",
              "  <svg xmlns=\"http://www.w3.org/2000/svg\" height=\"24px\"viewBox=\"0 0 24 24\"\n",
              "       width=\"24px\">\n",
              "    <path d=\"M0 0h24v24H0V0z\" fill=\"none\"/>\n",
              "    <path d=\"M18.56 5.44l.94 2.06.94-2.06 2.06-.94-2.06-.94-.94-2.06-.94 2.06-2.06.94zm-11 1L8.5 8.5l.94-2.06 2.06-.94-2.06-.94L8.5 2.5l-.94 2.06-2.06.94zm10 10l.94 2.06.94-2.06 2.06-.94-2.06-.94-.94-2.06-.94 2.06-2.06.94z\"/><path d=\"M17.41 7.96l-1.37-1.37c-.4-.4-.92-.59-1.43-.59-.52 0-1.04.2-1.43.59L10.3 9.45l-7.72 7.72c-.78.78-.78 2.05 0 2.83L4 21.41c.39.39.9.59 1.41.59.51 0 1.02-.2 1.41-.59l7.78-7.78 2.81-2.81c.8-.78.8-2.07 0-2.86zM5.41 20L4 18.59l7.72-7.72 1.47 1.35L5.41 20z\"/>\n",
              "  </svg>\n",
              "      </button>\n",
              "      \n",
              "  <style>\n",
              "    .colab-df-container {\n",
              "      display:flex;\n",
              "      flex-wrap:wrap;\n",
              "      gap: 12px;\n",
              "    }\n",
              "\n",
              "    .colab-df-convert {\n",
              "      background-color: #E8F0FE;\n",
              "      border: none;\n",
              "      border-radius: 50%;\n",
              "      cursor: pointer;\n",
              "      display: none;\n",
              "      fill: #1967D2;\n",
              "      height: 32px;\n",
              "      padding: 0 0 0 0;\n",
              "      width: 32px;\n",
              "    }\n",
              "\n",
              "    .colab-df-convert:hover {\n",
              "      background-color: #E2EBFA;\n",
              "      box-shadow: 0px 1px 2px rgba(60, 64, 67, 0.3), 0px 1px 3px 1px rgba(60, 64, 67, 0.15);\n",
              "      fill: #174EA6;\n",
              "    }\n",
              "\n",
              "    [theme=dark] .colab-df-convert {\n",
              "      background-color: #3B4455;\n",
              "      fill: #D2E3FC;\n",
              "    }\n",
              "\n",
              "    [theme=dark] .colab-df-convert:hover {\n",
              "      background-color: #434B5C;\n",
              "      box-shadow: 0px 1px 3px 1px rgba(0, 0, 0, 0.15);\n",
              "      filter: drop-shadow(0px 1px 2px rgba(0, 0, 0, 0.3));\n",
              "      fill: #FFFFFF;\n",
              "    }\n",
              "  </style>\n",
              "\n",
              "      <script>\n",
              "        const buttonEl =\n",
              "          document.querySelector('#df-9f3177e6-1eed-4619-840a-832a53bb8fe4 button.colab-df-convert');\n",
              "        buttonEl.style.display =\n",
              "          google.colab.kernel.accessAllowed ? 'block' : 'none';\n",
              "\n",
              "        async function convertToInteractive(key) {\n",
              "          const element = document.querySelector('#df-9f3177e6-1eed-4619-840a-832a53bb8fe4');\n",
              "          const dataTable =\n",
              "            await google.colab.kernel.invokeFunction('convertToInteractive',\n",
              "                                                     [key], {});\n",
              "          if (!dataTable) return;\n",
              "\n",
              "          const docLinkHtml = 'Like what you see? Visit the ' +\n",
              "            '<a target=\"_blank\" href=https://colab.research.google.com/notebooks/data_table.ipynb>data table notebook</a>'\n",
              "            + ' to learn more about interactive tables.';\n",
              "          element.innerHTML = '';\n",
              "          dataTable['output_type'] = 'display_data';\n",
              "          await google.colab.output.renderOutput(dataTable, element);\n",
              "          const docLink = document.createElement('div');\n",
              "          docLink.innerHTML = docLinkHtml;\n",
              "          element.appendChild(docLink);\n",
              "        }\n",
              "      </script>\n",
              "    </div>\n",
              "  </div>\n",
              "  "
            ]
          },
          "metadata": {},
          "execution_count": 44
        }
      ]
    },
    {
      "cell_type": "code",
      "source": [
        "df = pd.concat([df_num,encoded_cat],axis=1)\n",
        "df"
      ],
      "metadata": {
        "colab": {
          "base_uri": "https://localhost:8080/",
          "height": 423
        },
        "id": "0F7r11-d0Uc7",
        "outputId": "78f36f5c-0b22-4ede-c4aa-4e8b8d213fbc"
      },
      "execution_count": 45,
      "outputs": [
        {
          "output_type": "execute_result",
          "data": {
            "text/plain": [
              "        Price  Year  Mileage  City  State     Vin  Make  Model\n",
              "0        8995  2014    35725   646     49    3605     0    932\n",
              "1       10888  2013    19606  1259     39    3341     0    931\n",
              "2        8995  2013    48851   646     49    3603     0    932\n",
              "3       10999  2014    39922  2489      6    3458     0    931\n",
              "4       14799  2016    22142  1230     50      16     0    934\n",
              "...       ...   ...      ...   ...    ...     ...   ...    ...\n",
              "852076  37999  2016    10801  1812     35  764229    47   1917\n",
              "852089  44565  2016     5650  1396     11  762874    47   1610\n",
              "852108  45280  2017        8  2005      5  763144    47   1916\n",
              "852111  46500  2017        8  2005      5  763241    47   1916\n",
              "852112  46530  2017       10  2005      5  763212    47   1916\n",
              "\n",
              "[770733 rows x 8 columns]"
            ],
            "text/html": [
              "\n",
              "  <div id=\"df-27f6a9d3-728d-4fd3-adc3-994e72fb52f7\">\n",
              "    <div class=\"colab-df-container\">\n",
              "      <div>\n",
              "<style scoped>\n",
              "    .dataframe tbody tr th:only-of-type {\n",
              "        vertical-align: middle;\n",
              "    }\n",
              "\n",
              "    .dataframe tbody tr th {\n",
              "        vertical-align: top;\n",
              "    }\n",
              "\n",
              "    .dataframe thead th {\n",
              "        text-align: right;\n",
              "    }\n",
              "</style>\n",
              "<table border=\"1\" class=\"dataframe\">\n",
              "  <thead>\n",
              "    <tr style=\"text-align: right;\">\n",
              "      <th></th>\n",
              "      <th>Price</th>\n",
              "      <th>Year</th>\n",
              "      <th>Mileage</th>\n",
              "      <th>City</th>\n",
              "      <th>State</th>\n",
              "      <th>Vin</th>\n",
              "      <th>Make</th>\n",
              "      <th>Model</th>\n",
              "    </tr>\n",
              "  </thead>\n",
              "  <tbody>\n",
              "    <tr>\n",
              "      <th>0</th>\n",
              "      <td>8995</td>\n",
              "      <td>2014</td>\n",
              "      <td>35725</td>\n",
              "      <td>646</td>\n",
              "      <td>49</td>\n",
              "      <td>3605</td>\n",
              "      <td>0</td>\n",
              "      <td>932</td>\n",
              "    </tr>\n",
              "    <tr>\n",
              "      <th>1</th>\n",
              "      <td>10888</td>\n",
              "      <td>2013</td>\n",
              "      <td>19606</td>\n",
              "      <td>1259</td>\n",
              "      <td>39</td>\n",
              "      <td>3341</td>\n",
              "      <td>0</td>\n",
              "      <td>931</td>\n",
              "    </tr>\n",
              "    <tr>\n",
              "      <th>2</th>\n",
              "      <td>8995</td>\n",
              "      <td>2013</td>\n",
              "      <td>48851</td>\n",
              "      <td>646</td>\n",
              "      <td>49</td>\n",
              "      <td>3603</td>\n",
              "      <td>0</td>\n",
              "      <td>932</td>\n",
              "    </tr>\n",
              "    <tr>\n",
              "      <th>3</th>\n",
              "      <td>10999</td>\n",
              "      <td>2014</td>\n",
              "      <td>39922</td>\n",
              "      <td>2489</td>\n",
              "      <td>6</td>\n",
              "      <td>3458</td>\n",
              "      <td>0</td>\n",
              "      <td>931</td>\n",
              "    </tr>\n",
              "    <tr>\n",
              "      <th>4</th>\n",
              "      <td>14799</td>\n",
              "      <td>2016</td>\n",
              "      <td>22142</td>\n",
              "      <td>1230</td>\n",
              "      <td>50</td>\n",
              "      <td>16</td>\n",
              "      <td>0</td>\n",
              "      <td>934</td>\n",
              "    </tr>\n",
              "    <tr>\n",
              "      <th>...</th>\n",
              "      <td>...</td>\n",
              "      <td>...</td>\n",
              "      <td>...</td>\n",
              "      <td>...</td>\n",
              "      <td>...</td>\n",
              "      <td>...</td>\n",
              "      <td>...</td>\n",
              "      <td>...</td>\n",
              "    </tr>\n",
              "    <tr>\n",
              "      <th>852076</th>\n",
              "      <td>37999</td>\n",
              "      <td>2016</td>\n",
              "      <td>10801</td>\n",
              "      <td>1812</td>\n",
              "      <td>35</td>\n",
              "      <td>764229</td>\n",
              "      <td>47</td>\n",
              "      <td>1917</td>\n",
              "    </tr>\n",
              "    <tr>\n",
              "      <th>852089</th>\n",
              "      <td>44565</td>\n",
              "      <td>2016</td>\n",
              "      <td>5650</td>\n",
              "      <td>1396</td>\n",
              "      <td>11</td>\n",
              "      <td>762874</td>\n",
              "      <td>47</td>\n",
              "      <td>1610</td>\n",
              "    </tr>\n",
              "    <tr>\n",
              "      <th>852108</th>\n",
              "      <td>45280</td>\n",
              "      <td>2017</td>\n",
              "      <td>8</td>\n",
              "      <td>2005</td>\n",
              "      <td>5</td>\n",
              "      <td>763144</td>\n",
              "      <td>47</td>\n",
              "      <td>1916</td>\n",
              "    </tr>\n",
              "    <tr>\n",
              "      <th>852111</th>\n",
              "      <td>46500</td>\n",
              "      <td>2017</td>\n",
              "      <td>8</td>\n",
              "      <td>2005</td>\n",
              "      <td>5</td>\n",
              "      <td>763241</td>\n",
              "      <td>47</td>\n",
              "      <td>1916</td>\n",
              "    </tr>\n",
              "    <tr>\n",
              "      <th>852112</th>\n",
              "      <td>46530</td>\n",
              "      <td>2017</td>\n",
              "      <td>10</td>\n",
              "      <td>2005</td>\n",
              "      <td>5</td>\n",
              "      <td>763212</td>\n",
              "      <td>47</td>\n",
              "      <td>1916</td>\n",
              "    </tr>\n",
              "  </tbody>\n",
              "</table>\n",
              "<p>770733 rows × 8 columns</p>\n",
              "</div>\n",
              "      <button class=\"colab-df-convert\" onclick=\"convertToInteractive('df-27f6a9d3-728d-4fd3-adc3-994e72fb52f7')\"\n",
              "              title=\"Convert this dataframe to an interactive table.\"\n",
              "              style=\"display:none;\">\n",
              "        \n",
              "  <svg xmlns=\"http://www.w3.org/2000/svg\" height=\"24px\"viewBox=\"0 0 24 24\"\n",
              "       width=\"24px\">\n",
              "    <path d=\"M0 0h24v24H0V0z\" fill=\"none\"/>\n",
              "    <path d=\"M18.56 5.44l.94 2.06.94-2.06 2.06-.94-2.06-.94-.94-2.06-.94 2.06-2.06.94zm-11 1L8.5 8.5l.94-2.06 2.06-.94-2.06-.94L8.5 2.5l-.94 2.06-2.06.94zm10 10l.94 2.06.94-2.06 2.06-.94-2.06-.94-.94-2.06-.94 2.06-2.06.94z\"/><path d=\"M17.41 7.96l-1.37-1.37c-.4-.4-.92-.59-1.43-.59-.52 0-1.04.2-1.43.59L10.3 9.45l-7.72 7.72c-.78.78-.78 2.05 0 2.83L4 21.41c.39.39.9.59 1.41.59.51 0 1.02-.2 1.41-.59l7.78-7.78 2.81-2.81c.8-.78.8-2.07 0-2.86zM5.41 20L4 18.59l7.72-7.72 1.47 1.35L5.41 20z\"/>\n",
              "  </svg>\n",
              "      </button>\n",
              "      \n",
              "  <style>\n",
              "    .colab-df-container {\n",
              "      display:flex;\n",
              "      flex-wrap:wrap;\n",
              "      gap: 12px;\n",
              "    }\n",
              "\n",
              "    .colab-df-convert {\n",
              "      background-color: #E8F0FE;\n",
              "      border: none;\n",
              "      border-radius: 50%;\n",
              "      cursor: pointer;\n",
              "      display: none;\n",
              "      fill: #1967D2;\n",
              "      height: 32px;\n",
              "      padding: 0 0 0 0;\n",
              "      width: 32px;\n",
              "    }\n",
              "\n",
              "    .colab-df-convert:hover {\n",
              "      background-color: #E2EBFA;\n",
              "      box-shadow: 0px 1px 2px rgba(60, 64, 67, 0.3), 0px 1px 3px 1px rgba(60, 64, 67, 0.15);\n",
              "      fill: #174EA6;\n",
              "    }\n",
              "\n",
              "    [theme=dark] .colab-df-convert {\n",
              "      background-color: #3B4455;\n",
              "      fill: #D2E3FC;\n",
              "    }\n",
              "\n",
              "    [theme=dark] .colab-df-convert:hover {\n",
              "      background-color: #434B5C;\n",
              "      box-shadow: 0px 1px 3px 1px rgba(0, 0, 0, 0.15);\n",
              "      filter: drop-shadow(0px 1px 2px rgba(0, 0, 0, 0.3));\n",
              "      fill: #FFFFFF;\n",
              "    }\n",
              "  </style>\n",
              "\n",
              "      <script>\n",
              "        const buttonEl =\n",
              "          document.querySelector('#df-27f6a9d3-728d-4fd3-adc3-994e72fb52f7 button.colab-df-convert');\n",
              "        buttonEl.style.display =\n",
              "          google.colab.kernel.accessAllowed ? 'block' : 'none';\n",
              "\n",
              "        async function convertToInteractive(key) {\n",
              "          const element = document.querySelector('#df-27f6a9d3-728d-4fd3-adc3-994e72fb52f7');\n",
              "          const dataTable =\n",
              "            await google.colab.kernel.invokeFunction('convertToInteractive',\n",
              "                                                     [key], {});\n",
              "          if (!dataTable) return;\n",
              "\n",
              "          const docLinkHtml = 'Like what you see? Visit the ' +\n",
              "            '<a target=\"_blank\" href=https://colab.research.google.com/notebooks/data_table.ipynb>data table notebook</a>'\n",
              "            + ' to learn more about interactive tables.';\n",
              "          element.innerHTML = '';\n",
              "          dataTable['output_type'] = 'display_data';\n",
              "          await google.colab.output.renderOutput(dataTable, element);\n",
              "          const docLink = document.createElement('div');\n",
              "          docLink.innerHTML = docLinkHtml;\n",
              "          element.appendChild(docLink);\n",
              "        }\n",
              "      </script>\n",
              "    </div>\n",
              "  </div>\n",
              "  "
            ]
          },
          "metadata": {},
          "execution_count": 45
        }
      ]
    },
    {
      "cell_type": "code",
      "source": [
        "X = df.drop(['Price'],axis =1)\n",
        "y=df['Price']"
      ],
      "metadata": {
        "id": "gpZrlVkJxi_5"
      },
      "execution_count": 46,
      "outputs": []
    },
    {
      "cell_type": "code",
      "source": [
        "from sklearn.model_selection import train_test_split\n",
        "X_train,X_test,y_train,y_test = train_test_split(X,y,test_size=0.2,random_state=30)"
      ],
      "metadata": {
        "id": "jz9egNyRxjDH"
      },
      "execution_count": 47,
      "outputs": []
    },
    {
      "cell_type": "code",
      "source": [
        "classifier = Sequential()"
      ],
      "metadata": {
        "id": "phSBiUMQxjIj"
      },
      "execution_count": 48,
      "outputs": []
    },
    {
      "cell_type": "code",
      "metadata": {
        "id": "YVK4Vxrqp2FI"
      },
      "source": [
        "classifier.add(Dense(units = 6, kernel_initializer='uniform', activation='relu'))"
      ],
      "execution_count": 49,
      "outputs": []
    },
    {
      "cell_type": "code",
      "metadata": {
        "id": "nFCvMwz4p2FN"
      },
      "source": [
        "classifier.add(Dense(units = 6, kernel_initializer = 'uniform', activation = 'relu'))"
      ],
      "execution_count": 32,
      "outputs": []
    },
    {
      "cell_type": "code",
      "metadata": {
        "id": "zu6Touqdp2FR"
      },
      "source": [
        "classifier.add(Dense(units = 1, kernel_initializer = 'uniform', activation = 'sigmoid'))"
      ],
      "execution_count": 33,
      "outputs": []
    },
    {
      "cell_type": "code",
      "metadata": {
        "id": "jrp0265Ap2FT"
      },
      "source": [
        "classifier.compile(optimizer='adam', loss = 'binary_crossentropy', metrics = ['accuracy'])"
      ],
      "execution_count": 50,
      "outputs": []
    },
    {
      "cell_type": "code",
      "source": [
        "History=classifier.fit(X_train, y_train, batch_size = 10, epochs=40)"
      ],
      "metadata": {
        "colab": {
          "base_uri": "https://localhost:8080/",
          "height": 0
        },
        "id": "mPdV3unhzKyw",
        "outputId": "27163039-cf2c-41e5-fa56-ec17a65f4faf"
      },
      "execution_count": 59,
      "outputs": [
        {
          "output_type": "stream",
          "name": "stdout",
          "text": [
            "Epoch 1/40\n",
            "61659/61659 [==============================] - 72s 1ms/step - loss: -104277.8984 - accuracy: 0.0000e+00\n",
            "Epoch 2/40\n",
            "61659/61659 [==============================] - 71s 1ms/step - loss: -104278.9375 - accuracy: 0.0000e+00\n",
            "Epoch 3/40\n",
            "61659/61659 [==============================] - 70s 1ms/step - loss: -104278.8984 - accuracy: 0.0000e+00\n",
            "Epoch 4/40\n",
            "61659/61659 [==============================] - 69s 1ms/step - loss: -104278.1094 - accuracy: 0.0000e+00\n",
            "Epoch 5/40\n",
            "61659/61659 [==============================] - 69s 1ms/step - loss: -104278.4062 - accuracy: 0.0000e+00\n",
            "Epoch 6/40\n",
            "61659/61659 [==============================] - 69s 1ms/step - loss: -104278.8047 - accuracy: 0.0000e+00\n",
            "Epoch 7/40\n",
            "61659/61659 [==============================] - 73s 1ms/step - loss: -104278.1719 - accuracy: 0.0000e+00\n",
            "Epoch 8/40\n",
            "61659/61659 [==============================] - 69s 1ms/step - loss: -104278.6406 - accuracy: 0.0000e+00\n",
            "Epoch 9/40\n",
            "61659/61659 [==============================] - 69s 1ms/step - loss: -104278.1875 - accuracy: 0.0000e+00\n",
            "Epoch 10/40\n",
            "61659/61659 [==============================] - 69s 1ms/step - loss: -104278.1875 - accuracy: 0.0000e+00\n",
            "Epoch 11/40\n",
            "61659/61659 [==============================] - 69s 1ms/step - loss: -104278.8281 - accuracy: 0.0000e+00\n",
            "Epoch 12/40\n",
            "61659/61659 [==============================] - 70s 1ms/step - loss: -104278.5547 - accuracy: 0.0000e+00\n",
            "Epoch 13/40\n",
            "61659/61659 [==============================] - 69s 1ms/step - loss: -104278.4141 - accuracy: 0.0000e+00\n",
            "Epoch 14/40\n",
            "61659/61659 [==============================] - 70s 1ms/step - loss: -104278.7188 - accuracy: 0.0000e+00\n",
            "Epoch 15/40\n",
            "61659/61659 [==============================] - 70s 1ms/step - loss: -104278.3203 - accuracy: 0.0000e+00\n",
            "Epoch 16/40\n",
            "61659/61659 [==============================] - 69s 1ms/step - loss: -104278.2188 - accuracy: 0.0000e+00\n",
            "Epoch 17/40\n",
            "61659/61659 [==============================] - 69s 1ms/step - loss: -104278.8984 - accuracy: 0.0000e+00\n",
            "Epoch 18/40\n",
            "61659/61659 [==============================] - 69s 1ms/step - loss: -104277.8516 - accuracy: 0.0000e+00\n",
            "Epoch 19/40\n",
            "61659/61659 [==============================] - 70s 1ms/step - loss: -104278.2656 - accuracy: 0.0000e+00\n",
            "Epoch 20/40\n",
            "61659/61659 [==============================] - 69s 1ms/step - loss: -104278.5469 - accuracy: 0.0000e+00\n",
            "Epoch 21/40\n",
            "61659/61659 [==============================] - 69s 1ms/step - loss: -104278.5000 - accuracy: 0.0000e+00\n",
            "Epoch 22/40\n",
            "61659/61659 [==============================] - 69s 1ms/step - loss: -104278.0625 - accuracy: 0.0000e+00\n",
            "Epoch 23/40\n",
            "61659/61659 [==============================] - 69s 1ms/step - loss: -104278.2734 - accuracy: 0.0000e+00\n",
            "Epoch 24/40\n",
            "61659/61659 [==============================] - 71s 1ms/step - loss: -104277.5938 - accuracy: 0.0000e+00\n",
            "Epoch 25/40\n",
            "61659/61659 [==============================] - 69s 1ms/step - loss: -104278.1953 - accuracy: 0.0000e+00\n",
            "Epoch 26/40\n",
            "61659/61659 [==============================] - 69s 1ms/step - loss: -104278.5547 - accuracy: 0.0000e+00\n",
            "Epoch 27/40\n",
            "61659/61659 [==============================] - 70s 1ms/step - loss: -104278.3125 - accuracy: 0.0000e+00\n",
            "Epoch 28/40\n",
            "61659/61659 [==============================] - 70s 1ms/step - loss: -104278.3047 - accuracy: 0.0000e+00\n",
            "Epoch 29/40\n",
            "61659/61659 [==============================] - 70s 1ms/step - loss: -104278.2812 - accuracy: 0.0000e+00\n",
            "Epoch 30/40\n",
            "61659/61659 [==============================] - 70s 1ms/step - loss: -104278.5938 - accuracy: 0.0000e+00\n",
            "Epoch 31/40\n",
            "61659/61659 [==============================] - 75s 1ms/step - loss: -104278.3828 - accuracy: 0.0000e+00\n",
            "Epoch 32/40\n",
            "61659/61659 [==============================] - 70s 1ms/step - loss: -104278.3984 - accuracy: 0.0000e+00\n",
            "Epoch 33/40\n",
            "61659/61659 [==============================] - 70s 1ms/step - loss: -104278.2656 - accuracy: 0.0000e+00\n",
            "Epoch 34/40\n",
            "61659/61659 [==============================] - 70s 1ms/step - loss: -104279.0078 - accuracy: 0.0000e+00\n",
            "Epoch 35/40\n",
            "61659/61659 [==============================] - 69s 1ms/step - loss: -104278.8047 - accuracy: 0.0000e+00\n",
            "Epoch 36/40\n",
            "61659/61659 [==============================] - 70s 1ms/step - loss: -104278.5000 - accuracy: 0.0000e+00\n",
            "Epoch 37/40\n",
            "61659/61659 [==============================] - 69s 1ms/step - loss: -104277.8203 - accuracy: 0.0000e+00\n",
            "Epoch 38/40\n",
            "61659/61659 [==============================] - 69s 1ms/step - loss: -104278.3359 - accuracy: 0.0000e+00\n",
            "Epoch 39/40\n",
            "61659/61659 [==============================] - 70s 1ms/step - loss: -104278.2500 - accuracy: 0.0000e+00\n",
            "Epoch 40/40\n",
            "61659/61659 [==============================] - 69s 1ms/step - loss: -104277.8047 - accuracy: 0.0000e+00\n"
          ]
        }
      ]
    },
    {
      "cell_type": "code",
      "source": [
        "# evaluate the keras model\n",
        "_, accuracy = classifier.evaluate(X, y)\n"
      ],
      "metadata": {
        "colab": {
          "base_uri": "https://localhost:8080/",
          "height": 0
        },
        "id": "hXJ01_PV1HrY",
        "outputId": "7a0c1b2f-aece-40fd-e08f-8218f72552d3"
      },
      "execution_count": 133,
      "outputs": [
        {
          "output_type": "stream",
          "name": "stdout",
          "text": [
            "24086/24086 [==============================] - 28s 1ms/step - loss: -104260.0859 - accuracy: 0.0000e+00\n"
          ]
        }
      ]
    },
    {
      "cell_type": "code",
      "source": [
        "y_pred = classifier.predict(X_test)"
      ],
      "metadata": {
        "id": "7t-XYVhM7fSR"
      },
      "execution_count": 102,
      "outputs": []
    },
    {
      "cell_type": "code",
      "source": [
        "epochs = range(100)\n",
        "from tkinter import Frame"
      ],
      "metadata": {
        "id": "aANG3bZvc5TG"
      },
      "execution_count": 103,
      "outputs": []
    },
    {
      "cell_type": "code",
      "source": [
        "y_train"
      ],
      "metadata": {
        "colab": {
          "base_uri": "https://localhost:8080/",
          "height": 0
        },
        "id": "3zbemnokfFYd",
        "outputId": "43d11cbc-16f7-463b-b2eb-2a2859400aad"
      },
      "execution_count": 105,
      "outputs": [
        {
          "output_type": "execute_result",
          "data": {
            "text/plain": [
              "90461     16947\n",
              "160807    34437\n",
              "262800    11100\n",
              "222778    18974\n",
              "72828     24000\n",
              "          ...  \n",
              "548092    22991\n",
              "367548    23900\n",
              "634313    13975\n",
              "636138    15590\n",
              "481310    15421\n",
              "Name: Price, Length: 616586, dtype: int64"
            ]
          },
          "metadata": {},
          "execution_count": 105
        }
      ]
    },
    {
      "cell_type": "code",
      "source": [
        "from sklearn import metrics\n",
        "print('Evaluate Model')\n",
        "results = classifier.evaluate(X_test)"
      ],
      "metadata": {
        "colab": {
          "base_uri": "https://localhost:8080/",
          "height": 0
        },
        "id": "nuItmUQ6fhqa",
        "outputId": "a8906300-d5c9-43ed-bf37-ed26b9021038"
      },
      "execution_count": 122,
      "outputs": [
        {
          "output_type": "stream",
          "name": "stdout",
          "text": [
            "Evaluate Model\n",
            "4818/4818 [==============================] - 6s 1ms/step - loss: 0.0000e+00 - accuracy: 0.0000e+00\n"
          ]
        }
      ]
    },
    {
      "cell_type": "code",
      "source": [
        "metrics.r2_score(y_test,y_pred)\n",
        "#on test data"
      ],
      "metadata": {
        "id": "-Ci8ZvejEk7P",
        "colab": {
          "base_uri": "https://localhost:8080/"
        },
        "outputId": "6afb9202-761c-4b66-b8ef-4b935f8e4e66"
      },
      "execution_count": null,
      "outputs": [
        {
          "output_type": "execute_result",
          "data": {
            "text/plain": [
              "0.8591968907493969"
            ]
          },
          "metadata": {},
          "execution_count": 107
        }
      ]
    },
    {
      "cell_type": "code",
      "source": [
        "metrics.r2_score(y_train,y_pred)\n",
        "#on train data"
      ],
      "metadata": {
        "id": "GXZ5UG5xEk4C",
        "colab": {
          "base_uri": "https://localhost:8080/"
        },
        "outputId": "aaacb5d3-242b-4ed2-8a48-5cb58dc25ad1"
      },
      "execution_count": null,
      "outputs": [
        {
          "output_type": "execute_result",
          "data": {
            "text/plain": [
              "0.8586981800389554"
            ]
          },
          "metadata": {},
          "execution_count": 106
        }
      ]
    }
  ]
}